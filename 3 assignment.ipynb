{
 "cells": [
  {
   "cell_type": "code",
   "execution_count": null,
   "id": "30923169",
   "metadata": {},
   "outputs": [],
   "source": [
    "name :s.Abdul rahman\n",
    "batch :dS50122\n",
    "assignment :3\n",
    "    \n",
    "Write a Python program to count the number of even and odd numbers from a series of numbers.\n",
    "\n",
    "\n",
    "\n",
    "Sample numbers : numbers = (1, 2, 3, 4, 5, 6, 7, 8, 9) \n",
    "\n",
    "Expected Output :\n",
    "\n",
    "Number of even numbers : 4\n",
    "\n",
    "Number of odd numbers : 5"
   ]
  },
  {
   "cell_type": "code",
   "execution_count": 1,
   "id": "95e07367",
   "metadata": {},
   "outputs": [
    {
     "name": "stdout",
     "output_type": "stream",
     "text": [
      "number of even numbers:  4\n",
      "number of odd numbers :  5\n"
     ]
    }
   ],
   "source": [
    "number =[1, 2, 3, 4, 5, 6, 7, 8, 9]\n",
    "odd,even=0,0\n",
    "for i in number:\n",
    "    if i % 2 == 0 :\n",
    "        even += 1\n",
    "    else:\n",
    "        odd +=1\n",
    "print(\"number of even numbers: \",even)\n",
    "print(\"number of odd numbers : \",odd)"
   ]
  },
  {
   "cell_type": "code",
   "execution_count": null,
   "id": "8a10e9fa",
   "metadata": {},
   "outputs": [],
   "source": []
  }
 ],
 "metadata": {
  "kernelspec": {
   "display_name": "Python 3 (ipykernel)",
   "language": "python",
   "name": "python3"
  },
  "language_info": {
   "codemirror_mode": {
    "name": "ipython",
    "version": 3
   },
   "file_extension": ".py",
   "mimetype": "text/x-python",
   "name": "python",
   "nbconvert_exporter": "python",
   "pygments_lexer": "ipython3",
   "version": "3.8.6"
  }
 },
 "nbformat": 4,
 "nbformat_minor": 5
}
